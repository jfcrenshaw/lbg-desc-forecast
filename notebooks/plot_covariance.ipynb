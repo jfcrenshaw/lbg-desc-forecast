{
 "cells": [
  {
   "cell_type": "markdown",
   "metadata": {},
   "source": [
    "This notebook plots the signal covariance."
   ]
  },
  {
   "cell_type": "code",
   "execution_count": null,
   "metadata": {},
   "outputs": [],
   "source": [
    "import numpy as np\n",
    "import matplotlib.pyplot as plt\n",
    "import matplotlib\n",
    "\n",
    "from lbg_desc_forecast import data_dir, fig_dir"
   ]
  },
  {
   "cell_type": "code",
   "execution_count": null,
   "metadata": {},
   "outputs": [],
   "source": [
    "# Load the fiducial year 10 signal covariance\n",
    "Cov = np.load(data_dir / \"signal_covariance.npy\")\n",
    "\n",
    "# Create the figure\n",
    "fig, ax = plt.subplots(figsize=(7, 6), dpi=150)\n",
    "\n",
    "# Sym-log plot to highlight positive and negative contributions\n",
    "vmax = 10e-13\n",
    "linthresh = 1e-16\n",
    "linscale = 1\n",
    "norm = matplotlib.colors.SymLogNorm(\n",
    "    linthresh=linthresh, linscale=linscale, vmin=-vmax, vmax=vmax\n",
    ")\n",
    "img = plt.imshow(Cov, norm=norm, cmap=\"RdBu_r\")\n",
    "plt.colorbar(img, fraction=0.046, pad=0.04)\n",
    "\n",
    "# Thick lines between tomographic bins\n",
    "for x in np.arange(39.5, len(Cov), 40):\n",
    "    ax.axvline(x, c=\"k\", lw=0.7)\n",
    "    ax.axhline(x, c=\"k\", lw=0.7)\n",
    "\n",
    "# Dotted lines between sub-blocks\n",
    "for x in np.arange(19.5, len(Cov), 20):\n",
    "    ax.axvline(x, c=\"k\", lw=0.5, ls=\":\")\n",
    "    ax.axhline(x, c=\"k\", lw=0.5, ls=\":\")\n",
    "\n",
    "# Remove the ticks to clean up plot\n",
    "ax.set(xticks=[], yticks=[])\n",
    "\n",
    "# Label the signal sub-blocks\n",
    "colors = [\"C4\", \"C0\", \"C2\"]\n",
    "for i, x in enumerate(np.arange(10, len(Cov), 40)[:-1]):\n",
    "    ax.text(x, -1, \"$C_{gg}$\", ha=\"center\", va=\"bottom\", color=colors[i])\n",
    "    ax.text(x + 20, -1, \"$C_{kg}$\", ha=\"center\", va=\"bottom\", color=colors[i])\n",
    "    ax.text(-1.5, x, \"$C_{gg}$\", ha=\"right\", va=\"center\", color=colors[i])\n",
    "    ax.text(-1.5, x + 20, \"$C_{kg}$\", ha=\"right\", va=\"center\", color=colors[i])\n",
    "ax.text(len(Cov) - 10, -1, \"$C_{\\kappa \\kappa}$\", ha=\"center\", va=\"bottom\")\n",
    "ax.text(-1.5, len(Cov) - 10, \"$C_{\\kappa \\kappa}$\", ha=\"right\", va=\"center\")\n",
    "\n",
    "fig.savefig(fig_dir / \"signal_covariance.pdf\", bbox_inches=\"tight\")"
   ]
  },
  {
   "cell_type": "code",
   "execution_count": null,
   "metadata": {},
   "outputs": [],
   "source": []
  }
 ],
 "metadata": {
  "kernelspec": {
   "display_name": "LBG DESC Forecast",
   "language": "python",
   "name": "lbg-desc-forecast"
  },
  "language_info": {
   "codemirror_mode": {
    "name": "ipython",
    "version": 3
   },
   "file_extension": ".py",
   "mimetype": "text/x-python",
   "name": "python",
   "nbconvert_exporter": "python",
   "pygments_lexer": "ipython3",
   "version": "3.11.11"
  }
 },
 "nbformat": 4,
 "nbformat_minor": 2
}
