{
 "cells": [
  {
   "cell_type": "code",
   "execution_count": null,
   "id": "d47da755",
   "metadata": {},
   "outputs": [],
   "source": [
    "import numpy as np\n",
    "import matplotlib.pyplot as plt\n",
    "from scipy.ndimage import gaussian_filter\n",
    "from astropy.cosmology import Planck18 as cosmo\n",
    "from lbg_desc_forecast import get_lbg_mappers, fig_dir"
   ]
  },
  {
   "cell_type": "code",
   "execution_count": null,
   "id": "47da2fd9",
   "metadata": {},
   "outputs": [],
   "source": [
    "def nz(z):\n",
    "    z0 = 0.9 / np.sqrt(2)\n",
    "    n = 1 / (2 * z0) * (z / z0) ** 2 * np.exp(-((z / z0) ** (3 / 2)))\n",
    "    n /= np.sum(n)\n",
    "    return n"
   ]
  },
  {
   "cell_type": "code",
   "execution_count": null,
   "id": "08384101",
   "metadata": {},
   "outputs": [],
   "source": [
    "mappers = get_lbg_mappers(10)\n",
    "for mapper in mappers:\n",
    "    mapper.f_interlopers = 0"
   ]
  },
  {
   "cell_type": "code",
   "execution_count": null,
   "id": "0e18eed7",
   "metadata": {},
   "outputs": [],
   "source": [
    "fig, ax = plt.subplots(figsize=(5, 2), dpi=150, constrained_layout=True)\n",
    "\n",
    "# LSST low-z tomographic bins\n",
    "# ---------------------------\n",
    "\n",
    "# calculate n(z) on a fine grid\n",
    "zfine = np.linspace(0, 4, 1000)\n",
    "nzfine = nz(zfine)\n",
    "\n",
    "# separate redshift range into bins with equal numbers of galaxies\n",
    "nbins = 10\n",
    "bin_idx = np.abs(\n",
    "    nzfine.cumsum()[None, :] - np.linspace(0, 1, nbins + 1)[:, None]\n",
    ").argmin(axis=1)\n",
    "\n",
    "# loop over the source\n",
    "for i in range(nbins):\n",
    "    # get the true n(z) for the bin\n",
    "    nzbin = nzfine.copy()\n",
    "    nzbin[: bin_idx[i]] = nzbin[bin_idx[i + 1] :] = 0\n",
    "\n",
    "    # calculate the photo-z error for the bin\n",
    "    zmean = zfine[nzbin > 0].mean()\n",
    "    sigma = 0.03 * (1 + zmean) / (zfine[1] - zfine[0])\n",
    "\n",
    "    # convolve the true distribution with the Gaussian error\n",
    "    nzbin = gaussian_filter(nzbin, sigma)\n",
    "\n",
    "    # normalize n(z) for the bin\n",
    "    nzbin /= np.trapz(nzbin, zfine)\n",
    "\n",
    "    # plot the distribution\n",
    "    ax.plot(zfine, nzbin, c=\"k\", lw=0.5)\n",
    "\n",
    "\n",
    "# Lyman-break galaxies\n",
    "# --------------------\n",
    "z, pz = mappers[0].tomographic_bin.pz\n",
    "ax.plot(z, 1.75 * pz, c=\"C4\")\n",
    "\n",
    "z, pz = mappers[1].tomographic_bin.pz\n",
    "ax.plot(z, 1.75 * pz, c=\"C0\")\n",
    "\n",
    "z, pz = mappers[2].tomographic_bin.pz\n",
    "ax.plot(z, 1.75 * pz, c=\"C2\")\n",
    "\n",
    "\n",
    "# CMB Lensing kernel\n",
    "# ------------------\n",
    "z = np.linspace(0, 6, 1000)\n",
    "wk = (\n",
    "    (1 + z)\n",
    "    / cosmo.H(z)\n",
    "    * cosmo.comoving_distance(z)\n",
    "    * (1 - cosmo.comoving_distance(z) / cosmo.comoving_distance(1100))\n",
    ")\n",
    "ax.plot(z, 2.3 * wk / wk.max(), c=\"silver\", zorder=0, lw=1, alpha=0.9)\n",
    "ax.text(5.25, 1.9, \"$W_\\kappa$\", color=\"dimgray\", fontsize=11)\n",
    "\n",
    "\n",
    "ax.text(1.2, 5.6, \"low-redshift\\n3x2pt cosmology\", ha=\"left\")\n",
    "ax.text(4, 4.35, \"high-redshift cosmology\\nwith 175 million LBGs\", ha=\"center\")\n",
    "\n",
    "ax.set(\n",
    "    xlim=(0, 5.6),\n",
    "    ylim=(0, None),\n",
    "    xlabel=\"Redshift\",\n",
    "    ylabel=\"$n(z)$\",\n",
    ")\n",
    "\n",
    "fig.savefig(fig_dir / \"redshift_distributions.pdf\", bbox_inches=\"tight\")"
   ]
  },
  {
   "cell_type": "code",
   "execution_count": null,
   "id": "396e6f7f",
   "metadata": {},
   "outputs": [],
   "source": []
  }
 ],
 "metadata": {
  "kernelspec": {
   "display_name": "LBG DESC Forecast",
   "language": "python",
   "name": "lbg-desc-forecast"
  },
  "language_info": {
   "codemirror_mode": {
    "name": "ipython",
    "version": 3
   },
   "file_extension": ".py",
   "mimetype": "text/x-python",
   "name": "python",
   "nbconvert_exporter": "python",
   "pygments_lexer": "ipython3",
   "version": "3.11.11"
  }
 },
 "nbformat": 4,
 "nbformat_minor": 5
}
