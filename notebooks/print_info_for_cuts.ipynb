{
 "cells": [
  {
   "cell_type": "code",
   "execution_count": 1,
   "id": "67727ec2",
   "metadata": {},
   "outputs": [],
   "source": [
    "from lbg_desc_forecast import get_lbg_mappers"
   ]
  },
  {
   "cell_type": "code",
   "execution_count": 5,
   "id": "47d9ff32",
   "metadata": {},
   "outputs": [
    {
     "name": "stdout",
     "output_type": "stream",
     "text": [
      "Year 1\n",
      "Contamination 0\n",
      "u mag_cut = 23.68 m5_min = 23.68 n =  181 f_sky = 0.25 snr =   95\n",
      "g mag_cut = 24.76 m5_min = 24.76 n =  657 f_sky = 0.27 snr =  179\n",
      "r mag_cut = 24.34 m5_min = 24.34 n =   14 f_sky = 0.25 snr =   16\n",
      "\n",
      "\n",
      "\n",
      "Year 1\n",
      "Contamination 0.1\n",
      "u mag_cut = 23.68 m5_min = 23.68 n =  181 f_sky = 0.25 snr =   95\n",
      "g mag_cut = 24.74 m5_min = 24.75 n =  635 f_sky = 0.28 snr =  171\n",
      "r mag_cut = 24.34 m5_min = 24.34 n =   14 f_sky = 0.25 snr =   16\n",
      "\n",
      "\n",
      "\n",
      "Year 1\n",
      "Contamination 1.0\n",
      "u mag_cut = 23.68 m5_min = 23.68 n =  181 f_sky = 0.25 snr =   94\n",
      "g mag_cut = 24.58 m5_min = 24.65 n =  469 f_sky = 0.34 snr =  140\n",
      "r mag_cut = 24.34 m5_min = 24.34 n =   14 f_sky = 0.25 snr =   15\n",
      "\n",
      "\n",
      "\n",
      "Year 10\n",
      "Contamination 0\n",
      "u mag_cut = 24.76 m5_min = 24.85 n = 3533 f_sky = 0.30 snr =  405\n",
      "g mag_cut = 25.85 m5_min = 25.87 n = 6737 f_sky = 0.38 snr =  559\n",
      "r mag_cut = 25.51 m5_min = 25.51 n =  405 f_sky = 0.36 snr =  226\n",
      "\n",
      "\n",
      "\n",
      "Year 10\n",
      "Contamination 0.1\n",
      "u mag_cut = 24.76 m5_min = 24.85 n = 3533 f_sky = 0.30 snr =  405\n",
      "g mag_cut = 25.83 m5_min = 25.89 n = 6605 f_sky = 0.38 snr =  554\n",
      "r mag_cut = 25.50 m5_min = 25.50 n =  399 f_sky = 0.37 snr =  225\n",
      "\n",
      "\n",
      "\n",
      "Year 10\n",
      "Contamination 1.0\n",
      "u mag_cut = 24.75 m5_min = 24.85 n = 3463 f_sky = 0.30 snr =  404\n",
      "g mag_cut = 25.71 m5_min = 25.88 n = 5801 f_sky = 0.40 snr =  528\n",
      "r mag_cut = 25.50 m5_min = 25.50 n =  399 f_sky = 0.37 snr =  214\n",
      "\n",
      "\n",
      "\n"
     ]
    }
   ],
   "source": [
    "for year in [1, 10]:\n",
    "    for contamination in [0, 0.1, 1.0]:\n",
    "        print(\"Year\", year)\n",
    "        print(\"Contamination\", contamination)\n",
    "        mappers = get_lbg_mappers(year, contamination)\n",
    "        for band, mapper in zip(\"ugr\", mappers):\n",
    "            _, snr, _ = mapper.calc_lss_snr()\n",
    "            print(\n",
    "                band,\n",
    "                f\"mag_cut = {mapper.mag_cut:>4.2f}\",\n",
    "                f\"m5_min = {mapper.m5_min:>4.2f}\",\n",
    "                f\"n = {mapper.mean_density:>4.0f}\",\n",
    "                f\"f_sky = {mapper.f_sky:>4.2f}\",\n",
    "                f\"snr = {snr:>4.0f}\",\n",
    "            )\n",
    "        print(\"\\n\\n\")"
   ]
  },
  {
   "cell_type": "code",
   "execution_count": null,
   "id": "e0933be7",
   "metadata": {},
   "outputs": [],
   "source": []
  }
 ],
 "metadata": {
  "kernelspec": {
   "display_name": "LBG DESC Forecast",
   "language": "python",
   "name": "lbg-desc-forecast"
  },
  "language_info": {
   "codemirror_mode": {
    "name": "ipython",
    "version": 3
   },
   "file_extension": ".py",
   "mimetype": "text/x-python",
   "name": "python",
   "nbconvert_exporter": "python",
   "pygments_lexer": "ipython3",
   "version": "3.11.11"
  }
 },
 "nbformat": 4,
 "nbformat_minor": 5
}
