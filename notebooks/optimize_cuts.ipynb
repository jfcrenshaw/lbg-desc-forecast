{
 "cells": [
  {
   "cell_type": "markdown",
   "metadata": {},
   "source": [
    "This notebook determines optimal LBG cuts, which are then hard-coded into `lbg_desc_forecast/default_lbg.py`"
   ]
  },
  {
   "cell_type": "code",
   "execution_count": 1,
   "metadata": {},
   "outputs": [],
   "source": [
    "from lbg_desc_forecast import optimize_cuts, Mapper"
   ]
  },
  {
   "cell_type": "code",
   "execution_count": null,
   "metadata": {},
   "outputs": [],
   "source": [
    "def print_optimized_cuts(\n",
    "    contamination: float,\n",
    "    metric: str = \"gg\",\n",
    "    ell_min: float = 50,\n",
    "    ell_max: float = 2000,\n",
    ") -> None:\n",
    "    print(f\"Optimized cuts for contamination = {contamination}\")\n",
    "\n",
    "    # Loop over years and bands\n",
    "    for year in [1, 10]:\n",
    "        for band in \"ugr\":\n",
    "            # Optimize cuts for this band and year\n",
    "            mapper = Mapper(band, year)\n",
    "            mag_cut, m5_min = optimize_cuts(\n",
    "                mapper,\n",
    "                contamination=contamination,\n",
    "                metric=metric,\n",
    "                ell_min=ell_min,\n",
    "                ell_max=ell_max,\n",
    "            )\n",
    "\n",
    "            # Calculate resultant SNR\n",
    "            mapper.mag_cut = mag_cut\n",
    "            mapper.m5_min = m5_min\n",
    "            snr_tot, snr_gg, snr_kg = mapper.calc_lss_snr(\n",
    "                ell_min=ell_min,\n",
    "                ell_max=ell_max,\n",
    "            )\n",
    "\n",
    "            # Print results\n",
    "            print(\n",
    "                f\"year {year:>2}, \"\n",
    "                f\"{band}-band: mag_cut={mag_cut:.2f}, m5_min={m5_min:.2f}, \"\n",
    "                f\"snr_tot={snr_tot:>3.0f}, snr_gg={snr_gg:>3.0f}, snr_kg={snr_kg:>3.0f}\"\n",
    "            )"
   ]
  },
  {
   "cell_type": "code",
   "execution_count": 11,
   "metadata": {},
   "outputs": [
    {
     "name": "stdout",
     "output_type": "stream",
     "text": [
      "Optimized cuts for contamination = 0.0\n",
      "year  1, u-band: mag_cut=23.68, m5_min=23.68, snr_tot= 98, snr_gg= 83, snr_kg= 72\n",
      "year  1, g-band: mag_cut=24.76, m5_min=24.76, snr_tot=188, snr_gg=179, snr_kg=102\n",
      "year  1, r-band: mag_cut=24.34, m5_min=24.34, snr_tot= 34, snr_gg= 17, snr_kg= 32\n",
      "year 10, u-band: mag_cut=24.76, m5_min=24.85, snr_tot=410, snr_gg=408, snr_kg=121\n",
      "year 10, g-band: mag_cut=25.85, m5_min=25.87, snr_tot=559, snr_gg=558, snr_kg=129\n",
      "year 10, r-band: mag_cut=25.51, m5_min=25.51, snr_tot=236, snr_gg=231, snr_kg= 99\n"
     ]
    }
   ],
   "source": [
    "print_optimized_cuts(0.0)"
   ]
  },
  {
   "cell_type": "code",
   "execution_count": 12,
   "metadata": {},
   "outputs": [
    {
     "name": "stdout",
     "output_type": "stream",
     "text": [
      "Optimized cuts for contamination = 0.1\n",
      "year  1, u-band: mag_cut=23.68, m5_min=23.68, snr_tot= 98, snr_gg= 83, snr_kg= 72\n",
      "year  1, g-band: mag_cut=24.74, m5_min=24.75, snr_tot=190, snr_gg=180, snr_kg=103\n",
      "year  1, r-band: mag_cut=24.34, m5_min=24.34, snr_tot= 34, snr_gg= 17, snr_kg= 32\n",
      "year 10, u-band: mag_cut=24.76, m5_min=24.85, snr_tot=410, snr_gg=408, snr_kg=122\n",
      "year 10, g-band: mag_cut=25.83, m5_min=25.89, snr_tot=560, snr_gg=559, snr_kg=130\n",
      "year 10, r-band: mag_cut=25.50, m5_min=25.50, snr_tot=237, snr_gg=231, snr_kg= 99\n"
     ]
    }
   ],
   "source": [
    "print_optimized_cuts(0.1)"
   ]
  },
  {
   "cell_type": "code",
   "execution_count": 13,
   "metadata": {},
   "outputs": [
    {
     "name": "stdout",
     "output_type": "stream",
     "text": [
      "Optimized cuts for contamination = 1.0\n",
      "year  1, u-band: mag_cut=23.68, m5_min=23.68, snr_tot= 98, snr_gg= 83, snr_kg= 72\n",
      "year  1, g-band: mag_cut=24.58, m5_min=24.65, snr_tot=187, snr_gg=175, snr_kg=110\n",
      "year  1, r-band: mag_cut=24.34, m5_min=24.34, snr_tot= 34, snr_gg= 17, snr_kg= 32\n",
      "year 10, u-band: mag_cut=24.75, m5_min=24.85, snr_tot=411, snr_gg=409, snr_kg=122\n",
      "year 10, g-band: mag_cut=25.71, m5_min=25.88, snr_tot=554, snr_gg=553, snr_kg=136\n",
      "year 10, r-band: mag_cut=25.50, m5_min=25.50, snr_tot=237, snr_gg=231, snr_kg=100\n"
     ]
    }
   ],
   "source": [
    "print_optimized_cuts(1.0)"
   ]
  },
  {
   "cell_type": "code",
   "execution_count": null,
   "metadata": {},
   "outputs": [],
   "source": []
  }
 ],
 "metadata": {
  "kernelspec": {
   "display_name": "LBG DESC Forecast",
   "language": "python",
   "name": "lbg-desc-forecast"
  },
  "language_info": {
   "codemirror_mode": {
    "name": "ipython",
    "version": 3
   },
   "file_extension": ".py",
   "mimetype": "text/x-python",
   "name": "python",
   "nbconvert_exporter": "python",
   "pygments_lexer": "ipython3",
   "version": "3.11.11"
  }
 },
 "nbformat": 4,
 "nbformat_minor": 2
}
