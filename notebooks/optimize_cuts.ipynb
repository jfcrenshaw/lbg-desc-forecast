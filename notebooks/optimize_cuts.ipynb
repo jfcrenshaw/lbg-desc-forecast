{
 "cells": [
  {
   "cell_type": "markdown",
   "metadata": {},
   "source": [
    "This notebook determines optimal LBG cuts, which are then hard-coded into `lbg_desc_forecast/default_lbg.py`"
   ]
  },
  {
   "cell_type": "code",
   "execution_count": 1,
   "metadata": {},
   "outputs": [],
   "source": [
    "from lbg_desc_forecast import optimize_cuts, Mapper"
   ]
  },
  {
   "cell_type": "code",
   "execution_count": 3,
   "metadata": {},
   "outputs": [
    {
     "name": "stdout",
     "output_type": "stream",
     "text": [
      "year 1, u-band: mag_cut=23.87, m5_min=24.39\n",
      "year 1, g-band: mag_cut=24.74, m5_min=24.74\n",
      "year 1, r-band: mag_cut=24.35, m5_min=24.35\n",
      "year 10, u-band: mag_cut=24.81, m5_min=25.75\n",
      "year 10, g-band: mag_cut=25.90, m5_min=25.91\n",
      "year 10, r-band: mag_cut=25.52, m5_min=25.52\n"
     ]
    }
   ],
   "source": [
    "# Derive cuts for contamination = 0.0\n",
    "for year in [1, 10]:\n",
    "    for band in \"ugr\":\n",
    "        mag_cut, m5_min = optimize_cuts(Mapper(band, year), contamination=0.0)\n",
    "        print(f\"year {year}, {band}-band: mag_cut={mag_cut:.2f}, m5_min={m5_min:.2f}\")"
   ]
  },
  {
   "cell_type": "code",
   "execution_count": 2,
   "metadata": {},
   "outputs": [
    {
     "name": "stdout",
     "output_type": "stream",
     "text": [
      "year 1, u-band: mag_cut=23.88, m5_min=24.39\n",
      "year 1, g-band: mag_cut=24.72, m5_min=24.76\n",
      "year 1, r-band: mag_cut=24.35, m5_min=24.35\n",
      "year 10, u-band: mag_cut=24.81, m5_min=25.75\n",
      "year 10, g-band: mag_cut=25.90, m5_min=25.96\n",
      "year 10, r-band: mag_cut=25.52, m5_min=25.52\n"
     ]
    }
   ],
   "source": [
    "# Derive cuts for contamination = 0.1\n",
    "for year in [1, 10]:\n",
    "    for band in \"ugr\":\n",
    "        mag_cut, m5_min = optimize_cuts(Mapper(band, year), contamination=0.1)\n",
    "        print(f\"year {year}, {band}-band: mag_cut={mag_cut:.2f}, m5_min={m5_min:.2f}\")"
   ]
  },
  {
   "cell_type": "code",
   "execution_count": 4,
   "metadata": {},
   "outputs": [
    {
     "name": "stdout",
     "output_type": "stream",
     "text": [
      "year 1, u-band: mag_cut=23.86, m5_min=24.38\n",
      "year 1, g-band: mag_cut=24.56, m5_min=24.86\n",
      "year 1, r-band: mag_cut=24.35, m5_min=24.35\n",
      "year 10, u-band: mag_cut=24.81, m5_min=25.75\n",
      "year 10, g-band: mag_cut=25.74, m5_min=26.00\n",
      "year 10, r-band: mag_cut=25.50, m5_min=25.50\n"
     ]
    }
   ],
   "source": [
    "# Derive cuts for contamination = 1.0\n",
    "for year in [1, 10]:\n",
    "    for band in \"ugr\":\n",
    "        mag_cut, m5_min = optimize_cuts(Mapper(band, year), contamination=1.0)\n",
    "        print(f\"year {year}, {band}-band: mag_cut={mag_cut:.2f}, m5_min={m5_min:.2f}\")"
   ]
  },
  {
   "cell_type": "code",
   "execution_count": null,
   "metadata": {},
   "outputs": [],
   "source": []
  }
 ],
 "metadata": {
  "kernelspec": {
   "display_name": "LBG DESC Forecast",
   "language": "python",
   "name": "lbg-desc-forecast"
  },
  "language_info": {
   "codemirror_mode": {
    "name": "ipython",
    "version": 3
   },
   "file_extension": ".py",
   "mimetype": "text/x-python",
   "name": "python",
   "nbconvert_exporter": "python",
   "pygments_lexer": "ipython3",
   "version": "3.11.11"
  }
 },
 "nbformat": 4,
 "nbformat_minor": 2
}
