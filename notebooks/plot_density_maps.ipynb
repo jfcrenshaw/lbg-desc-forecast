{
 "cells": [
  {
   "cell_type": "code",
   "execution_count": null,
   "id": "ba9aabb7",
   "metadata": {},
   "outputs": [],
   "source": [
    "from lbg_desc_forecast import get_lbg_mappers, plot_map, fig_dir\n",
    "import matplotlib.pyplot as plt"
   ]
  },
  {
   "cell_type": "code",
   "execution_count": null,
   "id": "793aac0a",
   "metadata": {},
   "outputs": [],
   "source": [
    "u_mapper1, g_mapper1, r_mapper1 = get_lbg_mappers(1)\n",
    "u_mapper10, g_mapper10, r_mapper10 = get_lbg_mappers(10)"
   ]
  },
  {
   "cell_type": "code",
   "execution_count": null,
   "id": "1d41f539",
   "metadata": {},
   "outputs": [],
   "source": [
    "def print_info(fig, mapper):\n",
    "    ax = fig.get_axes()[0]\n",
    "    text_settings = dict(\n",
    "        c=\"white\",\n",
    "        fontsize=10,\n",
    "        ha=\"center\",\n",
    "        va=\"center\",\n",
    "        transform=ax.transAxes,\n",
    "    )\n",
    "    fig.text(\n",
    "        x=0.5,\n",
    "        y=0.83,\n",
    "        s=r\"$n_g = $\" + f\"{mapper.mean_density:.0f}\",\n",
    "        **text_settings,\n",
    "    )\n",
    "    fig.text(\n",
    "        x=0.5,\n",
    "        y=0.70,\n",
    "        s=r\"$f_\\text{sky} = $\" + f\"{mapper.f_sky:.2f}\",\n",
    "        **text_settings,\n",
    "    )"
   ]
  },
  {
   "cell_type": "code",
   "execution_count": null,
   "id": "1c461f72",
   "metadata": {},
   "outputs": [],
   "source": [
    "fig, ax = plt.subplots(figsize=(3, 2), dpi=180)\n",
    "\n",
    "plot_map(\n",
    "    u_mapper1.map_relative_density,\n",
    "    \"$u$ band dropouts\",\n",
    "    \"relative number density\",\n",
    ")\n",
    "\n",
    "print_info(fig, u_mapper1)\n",
    "\n",
    "fig.suptitle(\"LSST year 1\", y=1.2, fontsize=12)\n",
    "\n",
    "fig.savefig(fig_dir / \"u_relative_density_map_y1.pdf\", bbox_inches=\"tight\")"
   ]
  },
  {
   "cell_type": "code",
   "execution_count": null,
   "id": "f00aa3d5",
   "metadata": {},
   "outputs": [],
   "source": [
    "fig, ax = plt.subplots(figsize=(3, 2), dpi=180)\n",
    "\n",
    "plot_map(\n",
    "    u_mapper10.map_relative_density,\n",
    "    \"$u$ band dropouts\",\n",
    "    \"relative number density\",\n",
    ")\n",
    "\n",
    "print_info(fig, u_mapper10)\n",
    "\n",
    "fig.suptitle(\"LSST year 10\", y=1.2, fontsize=12)\n",
    "\n",
    "fig.savefig(fig_dir / \"u_relative_density_map_y10.pdf\", bbox_inches=\"tight\")"
   ]
  },
  {
   "cell_type": "code",
   "execution_count": null,
   "id": "db14598c",
   "metadata": {},
   "outputs": [],
   "source": [
    "fig, ax = plt.subplots(figsize=(3, 2), dpi=180)\n",
    "\n",
    "plot_map(\n",
    "    g_mapper1.map_relative_density,\n",
    "    \"$g$ band dropouts\",\n",
    "    \"relative number density\",\n",
    ")\n",
    "\n",
    "print_info(fig, g_mapper1)\n",
    "\n",
    "fig.savefig(fig_dir / \"g_relative_density_map_y1.pdf\", bbox_inches=\"tight\")"
   ]
  },
  {
   "cell_type": "code",
   "execution_count": null,
   "id": "7f022e55",
   "metadata": {},
   "outputs": [],
   "source": [
    "fig, ax = plt.subplots(figsize=(3, 2), dpi=180)\n",
    "\n",
    "plot_map(\n",
    "    g_mapper10.map_relative_density,\n",
    "    \"$g$ band dropouts\",\n",
    "    \"relative number density\",\n",
    ")\n",
    "\n",
    "print_info(fig, g_mapper10)\n",
    "\n",
    "fig.savefig(fig_dir / \"g_relative_density_map_y10.pdf\", bbox_inches=\"tight\")"
   ]
  },
  {
   "cell_type": "code",
   "execution_count": null,
   "id": "2f44b0ac",
   "metadata": {},
   "outputs": [],
   "source": [
    "fig, ax = plt.subplots(figsize=(3, 2), dpi=180)\n",
    "\n",
    "plot_map(\n",
    "    r_mapper1.map_relative_density,\n",
    "    \"$r$ band dropouts\",\n",
    "    \"relative number density\",\n",
    ")\n",
    "\n",
    "print_info(fig, r_mapper1)\n",
    "\n",
    "fig.savefig(fig_dir / \"r_relative_density_map_y1.pdf\", bbox_inches=\"tight\")"
   ]
  },
  {
   "cell_type": "code",
   "execution_count": null,
   "id": "40c9d81c",
   "metadata": {},
   "outputs": [],
   "source": [
    "fig, ax = plt.subplots(figsize=(3, 2), dpi=180)\n",
    "\n",
    "plot_map(\n",
    "    r_mapper10.map_relative_density,\n",
    "    \"$r$ band dropouts\",\n",
    "    \"relative number density\",\n",
    ")\n",
    "\n",
    "print_info(fig, r_mapper10)\n",
    "\n",
    "fig.savefig(fig_dir / \"r_relative_density_map_y10.pdf\", bbox_inches=\"tight\")"
   ]
  },
  {
   "cell_type": "code",
   "execution_count": null,
   "id": "112b3733",
   "metadata": {},
   "outputs": [],
   "source": []
  }
 ],
 "metadata": {
  "kernelspec": {
   "display_name": "LBG DESC Forecast",
   "language": "python",
   "name": "lbg-desc-forecast"
  },
  "language_info": {
   "codemirror_mode": {
    "name": "ipython",
    "version": 3
   },
   "file_extension": ".py",
   "mimetype": "text/x-python",
   "name": "python",
   "nbconvert_exporter": "python",
   "pygments_lexer": "ipython3",
   "version": "3.11.11"
  }
 },
 "nbformat": 4,
 "nbformat_minor": 5
}
